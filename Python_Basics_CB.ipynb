{
  "nbformat": 4,
  "nbformat_minor": 0,
  "metadata": {
    "colab": {
      "name": "Python_Basics_CB.ipynb",
      "provenance": []
    },
    "kernelspec": {
      "name": "python3",
      "display_name": "Python 3"
    }
  },
  "cells": [
    {
      "cell_type": "code",
      "metadata": {
        "id": "nWK84Sj8phbb",
        "colab_type": "code",
        "colab": {
          "base_uri": "https://localhost:8080/",
          "height": 34
        },
        "outputId": "35f75137-2424-46ff-c17b-7976cdda0418"
      },
      "source": [
        "print(\"Hello World!\")"
      ],
      "execution_count": 1,
      "outputs": [
        {
          "output_type": "stream",
          "text": [
            "Hello World!\n"
          ],
          "name": "stdout"
        }
      ]
    },
    {
      "cell_type": "code",
      "metadata": {
        "id": "bvWtgDSFpuVH",
        "colab_type": "code",
        "colab": {
          "base_uri": "https://localhost:8080/",
          "height": 34
        },
        "outputId": "019d17ac-d041-445c-9517-78535dc5b2fc"
      },
      "source": [
        "a = 10\n",
        "b = 20\n",
        "print(a + b)\n",
        "# Press Shift + enter to run the cell"
      ],
      "execution_count": 3,
      "outputs": [
        {
          "output_type": "stream",
          "text": [
            "30\n"
          ],
          "name": "stdout"
        }
      ]
    },
    {
      "cell_type": "code",
      "metadata": {
        "id": "mXz7fr4XqDcZ",
        "colab_type": "code",
        "colab": {
          "base_uri": "https://localhost:8080/",
          "height": 51
        },
        "outputId": "4d26495a-5a02-4040-f9f5-49a291cce3f4"
      },
      "source": [
        "s = \"Machine Learning\"\n",
        "print(s)\n",
        "print(type(s))"
      ],
      "execution_count": 5,
      "outputs": [
        {
          "output_type": "stream",
          "text": [
            "Machine Learning\n",
            "<class 'str'>\n"
          ],
          "name": "stdout"
        }
      ]
    },
    {
      "cell_type": "code",
      "metadata": {
        "id": "i2dImyT8qXTk",
        "colab_type": "code",
        "colab": {
          "base_uri": "https://localhost:8080/",
          "height": 34
        },
        "outputId": "e9499e62-4c5e-4c40-b4f9-eb9b33fa39d9"
      },
      "source": [
        "# Slicing\n",
        "s[0:7]"
      ],
      "execution_count": 6,
      "outputs": [
        {
          "output_type": "execute_result",
          "data": {
            "text/plain": [
              "'Machine'"
            ]
          },
          "metadata": {
            "tags": []
          },
          "execution_count": 6
        }
      ]
    },
    {
      "cell_type": "code",
      "metadata": {
        "id": "0omTEXv6qg_S",
        "colab_type": "code",
        "colab": {
          "base_uri": "https://localhost:8080/",
          "height": 68
        },
        "outputId": "bc5ff078-f8ab-469a-c228-f6b50cabbf2a"
      },
      "source": [
        "print(s.split())\n",
        "print(5)\n",
        "print(10 + 20)"
      ],
      "execution_count": 17,
      "outputs": [
        {
          "output_type": "stream",
          "text": [
            "['Machine', 'Learning']\n",
            "5\n",
            "30\n"
          ],
          "name": "stdout"
        }
      ]
    },
    {
      "cell_type": "code",
      "metadata": {
        "id": "FhyxBQxiqk88",
        "colab_type": "code",
        "colab": {
          "base_uri": "https://localhost:8080/",
          "height": 51
        },
        "outputId": "c4f9742c-16fb-4382-b907-400d66fefa22"
      },
      "source": [
        "# Lists in Python\n",
        "a = [1,2,3,4]\n",
        "a[0] = 10\n",
        "a.append(20)\n",
        "a.append(\"Hello\")\n",
        "print(a)\n",
        "print(type(a))"
      ],
      "execution_count": 13,
      "outputs": [
        {
          "output_type": "stream",
          "text": [
            "[10, 2, 3, 4, 20, 'Hello']\n",
            "<class 'list'>\n"
          ],
          "name": "stdout"
        }
      ]
    },
    {
      "cell_type": "code",
      "metadata": {
        "id": "cPiHW5IJq3wT",
        "colab_type": "code",
        "colab": {
          "base_uri": "https://localhost:8080/",
          "height": 102
        },
        "outputId": "295314a2-0125-4007-a888-7f493b4af22c"
      },
      "source": [
        "# Loops\n",
        "i = 1\n",
        "while i<=5:\n",
        "    print(i)\n",
        "    i = i + 1"
      ],
      "execution_count": 21,
      "outputs": [
        {
          "output_type": "stream",
          "text": [
            "1\n",
            "2\n",
            "3\n",
            "4\n",
            "5\n"
          ],
          "name": "stdout"
        }
      ]
    },
    {
      "cell_type": "code",
      "metadata": {
        "id": "u1SHJLR_sN7g",
        "colab_type": "code",
        "colab": {
          "base_uri": "https://localhost:8080/",
          "height": 68
        },
        "outputId": "4feb23c0-1420-4de0-d147-ad4fb380789d"
      },
      "source": [
        "for i in range(1,6,2):\n",
        "    print(i)"
      ],
      "execution_count": 24,
      "outputs": [
        {
          "output_type": "stream",
          "text": [
            "1\n",
            "3\n",
            "5\n"
          ],
          "name": "stdout"
        }
      ]
    },
    {
      "cell_type": "code",
      "metadata": {
        "id": "u_T8AqIjsj-Y",
        "colab_type": "code",
        "colab": {
          "base_uri": "https://localhost:8080/",
          "height": 102
        },
        "outputId": "46534346-28a6-4cb4-dcea-28c4722f0388"
      },
      "source": [
        "def fun(s,a,b,c, *args,**kwargs):\n",
        "    print(\"Having fun with \",s)\n",
        "    print(kwargs)\n",
        "    print(args)\n",
        "    print(sum(args))\n",
        "    print(a,b,c)\n",
        "\n",
        "\n",
        "fun(\"Machine Learning\",10,20,30,1,2,3,4,shake=\"Banana\",juice=\"Mango\")"
      ],
      "execution_count": 32,
      "outputs": [
        {
          "output_type": "stream",
          "text": [
            "Having fun with  Machine Learning\n",
            "{'shake': 'Banana', 'juice': 'Mango'}\n",
            "(1, 2, 3, 4)\n",
            "10\n",
            "10 20 30\n"
          ],
          "name": "stdout"
        }
      ]
    },
    {
      "cell_type": "code",
      "metadata": {
        "id": "XpBc9OF0tXLD",
        "colab_type": "code",
        "colab": {}
      },
      "source": [
        "d = {\n",
        "    \"India\" : \"Delhi\",\n",
        "     \"US\" : \"Washington\",\n",
        "     \"England\":\"London\",\n",
        "}\n"
      ],
      "execution_count": 0,
      "outputs": []
    },
    {
      "cell_type": "code",
      "metadata": {
        "id": "-29SZwSbuV34",
        "colab_type": "code",
        "colab": {
          "base_uri": "https://localhost:8080/",
          "height": 34
        },
        "outputId": "c4dfd84e-5ae3-4b4f-a140-abd8d53dea9a"
      },
      "source": [
        "d[\"India\"]"
      ],
      "execution_count": 34,
      "outputs": [
        {
          "output_type": "execute_result",
          "data": {
            "text/plain": [
              "'Delhi'"
            ]
          },
          "metadata": {
            "tags": []
          },
          "execution_count": 34
        }
      ]
    },
    {
      "cell_type": "code",
      "metadata": {
        "id": "XMGIomzduW87",
        "colab_type": "code",
        "colab": {
          "base_uri": "https://localhost:8080/",
          "height": 34
        },
        "outputId": "c4c67c28-e761-4766-839f-cbeec0655eb3"
      },
      "source": [
        "d"
      ],
      "execution_count": 35,
      "outputs": [
        {
          "output_type": "execute_result",
          "data": {
            "text/plain": [
              "{'England': 'London', 'India': 'Delhi', 'US': 'Washington'}"
            ]
          },
          "metadata": {
            "tags": []
          },
          "execution_count": 35
        }
      ]
    },
    {
      "cell_type": "code",
      "metadata": {
        "id": "iOb7HUlfudLG",
        "colab_type": "code",
        "colab": {
          "base_uri": "https://localhost:8080/",
          "height": 34
        },
        "outputId": "0fb29b6d-1215-4835-a0ae-f6825deb2e49"
      },
      "source": [
        "d.keys()"
      ],
      "execution_count": 36,
      "outputs": [
        {
          "output_type": "execute_result",
          "data": {
            "text/plain": [
              "dict_keys(['India', 'US', 'England'])"
            ]
          },
          "metadata": {
            "tags": []
          },
          "execution_count": 36
        }
      ]
    },
    {
      "cell_type": "code",
      "metadata": {
        "id": "aOPn9TLnuehj",
        "colab_type": "code",
        "colab": {
          "base_uri": "https://localhost:8080/",
          "height": 34
        },
        "outputId": "77077003-cffb-402a-e3e7-2a536990730f"
      },
      "source": [
        "d.values()"
      ],
      "execution_count": 37,
      "outputs": [
        {
          "output_type": "execute_result",
          "data": {
            "text/plain": [
              "dict_values(['Delhi', 'Washington', 'London'])"
            ]
          },
          "metadata": {
            "tags": []
          },
          "execution_count": 37
        }
      ]
    },
    {
      "cell_type": "code",
      "metadata": {
        "id": "jLx01CH7ugZ6",
        "colab_type": "code",
        "colab": {
          "base_uri": "https://localhost:8080/",
          "height": 34
        },
        "outputId": "91155187-3d50-4285-eed7-1bba2a976947"
      },
      "source": [
        "t = (1,2,3,5)\n",
        "print(t)"
      ],
      "execution_count": 38,
      "outputs": [
        {
          "output_type": "stream",
          "text": [
            "(1, 2, 3, 5)\n"
          ],
          "name": "stdout"
        }
      ]
    },
    {
      "cell_type": "code",
      "metadata": {
        "id": "GG__gdQNutiv",
        "colab_type": "code",
        "colab": {
          "base_uri": "https://localhost:8080/",
          "height": 34
        },
        "outputId": "9585e1cf-dbbb-4107-8a05-358ce3a56845"
      },
      "source": [
        "print(type(t))"
      ],
      "execution_count": 41,
      "outputs": [
        {
          "output_type": "stream",
          "text": [
            "<class 'tuple'>\n"
          ],
          "name": "stdout"
        }
      ]
    },
    {
      "cell_type": "code",
      "metadata": {
        "id": "729cnvnRuwHT",
        "colab_type": "code",
        "colab": {}
      },
      "source": [
        "import numpy as np"
      ],
      "execution_count": 0,
      "outputs": []
    },
    {
      "cell_type": "code",
      "metadata": {
        "id": "Se89y8_du1bJ",
        "colab_type": "code",
        "colab": {}
      },
      "source": [
        "a = np.array([1,2,3])"
      ],
      "execution_count": 0,
      "outputs": []
    },
    {
      "cell_type": "code",
      "metadata": {
        "id": "nxW8M6J0vO1Y",
        "colab_type": "code",
        "colab": {
          "base_uri": "https://localhost:8080/",
          "height": 51
        },
        "outputId": "c1bda33e-67f7-4834-c7c7-579cc7b26090"
      },
      "source": [
        "print(a)\n",
        "print(type(a))"
      ],
      "execution_count": 51,
      "outputs": [
        {
          "output_type": "stream",
          "text": [
            "[1 2 3]\n",
            "<class 'numpy.ndarray'>\n"
          ],
          "name": "stdout"
        }
      ]
    },
    {
      "cell_type": "code",
      "metadata": {
        "id": "BNlVxwppvThw",
        "colab_type": "code",
        "colab": {
          "base_uri": "https://localhost:8080/",
          "height": 34
        },
        "outputId": "da2da27c-929a-4256-f787-b9f5398ae320"
      },
      "source": [
        "# Broadcasting\n",
        "a = a + 1\n",
        "print(a)"
      ],
      "execution_count": 53,
      "outputs": [
        {
          "output_type": "stream",
          "text": [
            "[2 3 4]\n"
          ],
          "name": "stdout"
        }
      ]
    },
    {
      "cell_type": "code",
      "metadata": {
        "id": "ISjxjHgivohF",
        "colab_type": "code",
        "colab": {
          "base_uri": "https://localhost:8080/",
          "height": 119
        },
        "outputId": "b3793915-1b2b-4c8b-ac68-8f319c0daf93"
      },
      "source": [
        "b = np.zeros((5,6),dtype='uint8')\n",
        "print(b)\n",
        "print(type(b))"
      ],
      "execution_count": 65,
      "outputs": [
        {
          "output_type": "stream",
          "text": [
            "[[0 0 0 0 0 0]\n",
            " [0 0 0 0 0 0]\n",
            " [0 0 0 0 0 0]\n",
            " [0 0 0 0 0 0]\n",
            " [0 0 0 0 0 0]]\n",
            "<class 'numpy.ndarray'>\n"
          ],
          "name": "stdout"
        }
      ]
    },
    {
      "cell_type": "code",
      "metadata": {
        "id": "8_TdCwV3v9Kl",
        "colab_type": "code",
        "colab": {
          "base_uri": "https://localhost:8080/",
          "height": 34
        },
        "outputId": "27ab1d12-34e3-4397-a02a-2e680eee32e8"
      },
      "source": [
        "b.shape"
      ],
      "execution_count": 61,
      "outputs": [
        {
          "output_type": "execute_result",
          "data": {
            "text/plain": [
              "(5, 6)"
            ]
          },
          "metadata": {
            "tags": []
          },
          "execution_count": 61
        }
      ]
    },
    {
      "cell_type": "code",
      "metadata": {
        "id": "4-xko_c9wJF0",
        "colab_type": "code",
        "colab": {}
      },
      "source": [
        "# Matplotlib\n",
        "import matplotlib.pyplot as plt"
      ],
      "execution_count": 0,
      "outputs": []
    },
    {
      "cell_type": "code",
      "metadata": {
        "id": "ydxeRSFIwWGh",
        "colab_type": "code",
        "colab": {
          "base_uri": "https://localhost:8080/",
          "height": 34
        },
        "outputId": "041d5953-4aa5-4667-8667-b9d1ef2afff5"
      },
      "source": [
        "# Plot(), Scatter()\n",
        "\n",
        "x = np.array([1,2,3,4,5])\n",
        "y = x**2\n",
        "print(x,y)"
      ],
      "execution_count": 66,
      "outputs": [
        {
          "output_type": "stream",
          "text": [
            "[1 2 3 4 5] [ 1  4  9 16 25]\n"
          ],
          "name": "stdout"
        }
      ]
    },
    {
      "cell_type": "code",
      "metadata": {
        "id": "6X2q14HKxG_K",
        "colab_type": "code",
        "colab": {
          "base_uri": "https://localhost:8080/",
          "height": 295
        },
        "outputId": "df62d892-59a5-42f4-9a22-8a2c41ba6165"
      },
      "source": [
        "#plt.plot(x,y)\n",
        "plt.plot(x,x)\n",
        "plt.scatter(x,y,color='red')\n",
        "plt.title(\"Sample Plot\")\n",
        "plt.xlabel(\"X-Axis\")\n",
        "plt.ylabel(\"Prices\")\n",
        "plt.show()"
      ],
      "execution_count": 75,
      "outputs": [
        {
          "output_type": "display_data",
          "data": {
            "image/png": "[encoded data removed]",
            "text/plain": [
              "<Figure size 432x288 with 1 Axes>"
            ]
          },
          "metadata": {
            "tags": []
          }
        }
      ]
    },
    {
      "cell_type": "code",
      "metadata": {
        "id": "xnj7nmx8xLXS",
        "colab_type": "code",
        "colab": {
          "base_uri": "https://localhost:8080/",
          "height": 34
        },
        "outputId": "6d747969-14e3-4f12-964e-0410afdbed9a"
      },
      "source": [
        "# Gradient Descent\n",
        "\n",
        "X = np.arange(10)\n",
        "Y = (X-5)**2\n",
        "print(X,Y)"
      ],
      "execution_count": 78,
      "outputs": [
        {
          "output_type": "stream",
          "text": [
            "[0 1 2 3 4 5 6 7 8 9] [25 16  9  4  1  0  1  4  9 16]\n"
          ],
          "name": "stdout"
        }
      ]
    },
    {
      "cell_type": "code",
      "metadata": {
        "id": "Y6zm84zM2UkV",
        "colab_type": "code",
        "colab": {
          "base_uri": "https://localhost:8080/",
          "height": 265
        },
        "outputId": "92e2d87a-638b-42b4-9548-7e94daf85feb"
      },
      "source": [
        "plt.plot(X,Y)\n",
        "plt.show()"
      ],
      "execution_count": 80,
      "outputs": [
        {
          "output_type": "display_data",
          "data": {
            "image/png": "[encoded data removed]",
            "text/plain": [
              "<Figure size 432x288 with 1 Axes>"
            ]
          },
          "metadata": {
            "tags": []
          }
        }
      ]
    },
    {
      "cell_type": "code",
      "metadata": {
        "id": "8c1GJX2l2Z4l",
        "colab_type": "code",
        "colab": {
          "base_uri": "https://localhost:8080/",
          "height": 605
        },
        "outputId": "ddc8699c-e79e-4dba-a2bd-cee4f6e5d8e1"
      },
      "source": [
        "# Goal - is to find value of X that minimizes Y\n",
        "error_list = []\n",
        "x = 10\n",
        "lr = 0.1\n",
        "plt.plot(X,Y)\n",
        "for i in range(20):\n",
        "    e = (x-5)**2\n",
        "    error_list.append(e)\n",
        "    plt.scatter(x,e)\n",
        "    dy_dx = 2*(x-5)\n",
        "    x = x - lr*dy_dx\n",
        "    print(x)"
      ],
      "execution_count": 88,
      "outputs": [
        {
          "output_type": "stream",
          "text": [
            "9.0\n",
            "8.2\n",
            "7.56\n",
            "7.048\n",
            "6.6384\n",
            "6.31072\n",
            "6.048576\n",
            "5.8388608\n",
            "5.67108864\n",
            "5.5368709119999995\n",
            "5.429496729599999\n",
            "5.34359738368\n",
            "5.274877906944\n",
            "5.2199023255552\n",
            "5.17592186044416\n",
            "5.140737488355328\n",
            "5.1125899906842625\n",
            "5.09007199254741\n",
            "5.072057594037927\n",
            "5.057646075230342\n"
          ],
          "name": "stdout"
        },
        {
          "output_type": "display_data",
          "data": {
            "image/png": "[encoded data removed]",
            "text/plain": [
              "<Figure size 432x288 with 1 Axes>"
            ]
          },
          "metadata": {
            "tags": []
          }
        }
      ]
    },
    {
      "cell_type": "code",
      "metadata": {
        "id": "58nIgIk72y9m",
        "colab_type": "code",
        "colab": {
          "base_uri": "https://localhost:8080/",
          "height": 282
        },
        "outputId": "9811b213-d00b-4aed-eb4d-5c33ed3b5720"
      },
      "source": [
        "plt.plot(error_list)"
      ],
      "execution_count": 85,
      "outputs": [
        {
          "output_type": "execute_result",
          "data": {
            "text/plain": [
              "[<matplotlib.lines.Line2D at 0x7f46fd797dd8>]"
            ]
          },
          "metadata": {
            "tags": []
          },
          "execution_count": 85
        },
        {
          "output_type": "display_data",
          "data": {
            "image/png": "[encoded data removed]",
            "text/plain": [
              "<Figure size 432x288 with 1 Axes>"
            ]
          },
          "metadata": {
            "tags": []
          }
        }
      ]
    },
    {
      "cell_type": "code",
      "metadata": {
        "id": "BJft5qeb3ZUN",
        "colab_type": "code",
        "colab": {}
      },
      "source": [
        "## Linear Regression"
      ],
      "execution_count": 0,
      "outputs": []
    },
    {
      "cell_type": "code",
      "metadata": {
        "id": "QhLF6Tjh7XnK",
        "colab_type": "code",
        "colab": {
          "base_uri": "https://localhost:8080/",
          "height": 34
        },
        "outputId": "d520a2c2-27ab-421c-a4ae-d39bc8fbb844"
      },
      "source": [
        "# Training Data\n",
        "X = np.random.randn(100)\n",
        "noise = np.random.randn(100)\n",
        "Y = 2*X + 1 + 0.3*noise\n",
        "print(X.shape,Y.shape)"
      ],
      "execution_count": 94,
      "outputs": [
        {
          "output_type": "stream",
          "text": [
            "(100,) (100,)\n"
          ],
          "name": "stdout"
        }
      ]
    },
    {
      "cell_type": "code",
      "metadata": {
        "id": "1S70uD-D7iTm",
        "colab_type": "code",
        "colab": {
          "base_uri": "https://localhost:8080/",
          "height": 266
        },
        "outputId": "195b74a9-9811-4242-b6b7-5b397fef204d"
      },
      "source": [
        "plt.scatter(X,Y)\n",
        "plt.show()"
      ],
      "execution_count": 95,
      "outputs": [
        {
          "output_type": "display_data",
          "data": {
            "image/png": "[encoded data removed]",
            "text/plain": [
              "<Figure size 432x288 with 1 Axes>"
            ]
          },
          "metadata": {
            "tags": []
          }
        }
      ]
    },
    {
      "cell_type": "code",
      "metadata": {
        "id": "XQdhNln77ywb",
        "colab_type": "code",
        "colab": {}
      },
      "source": [
        "# Linear Regression\n",
        "\n",
        "def y_hat(theta,x):\n",
        "    return theta[1]*x + theta[0]\n",
        "\n",
        "def error(X,Y,theta):\n",
        "    m = X.shape[0]\n",
        "    e = 0\n",
        "    for i in range(m):\n",
        "        y_ = y_hat(theta,X[i])\n",
        "        y = Y[i]\n",
        "        e += (y_ - y)**2\n",
        "    \n",
        "    return e/m\n",
        "\n",
        "def gradient(X,Y,theta):\n",
        "\n",
        "    grad = np.zeros((2,))\n",
        "    m = X.shape[0]\n",
        "    for i in range(m):\n",
        "        y_ = y_hat(theta,X[i])\n",
        "        y = Y[i]\n",
        "        grad[0] += (y_ - y)\n",
        "        grad[1] += (y_ - y)*X[i]\n",
        "\n",
        "    return 2*grad/m\n",
        "\n",
        "def gradient_descent(X,Y):\n",
        "\n",
        "    theta = np.zeros((2,))\n",
        "    lr = 0.1\n",
        "    error_list = []\n",
        "\n",
        "    for i in range(50):\n",
        "        # Compute Error (J)\n",
        "        e = error(X,Y,theta)\n",
        "        error_list.append(e)\n",
        "\n",
        "        # Update theta\n",
        "        grad = gradient(X,Y,theta)\n",
        "        theta[0] = theta[0] - lr*grad[0]\n",
        "        theta[1] = theta[1] - lr*grad[1]\n",
        "\n",
        "    return theta,error_list\n"
      ],
      "execution_count": 0,
      "outputs": []
    },
    {
      "cell_type": "code",
      "metadata": {
        "id": "7BXo1AO48gi9",
        "colab_type": "code",
        "colab": {}
      },
      "source": [
        "theta,error_list = gradient_descent(X,Y)"
      ],
      "execution_count": 0,
      "outputs": []
    },
    {
      "cell_type": "code",
      "metadata": {
        "id": "CQ5UDKPX9qp_",
        "colab_type": "code",
        "colab": {
          "base_uri": "https://localhost:8080/",
          "height": 282
        },
        "outputId": "c651c67d-effb-43b7-b6c7-b44bea3512fe"
      },
      "source": [
        "plt.plot(error_list)"
      ],
      "execution_count": 108,
      "outputs": [
        {
          "output_type": "execute_result",
          "data": {
            "text/plain": [
              "[<matplotlib.lines.Line2D at 0x7f46fab61b00>]"
            ]
          },
          "metadata": {
            "tags": []
          },
          "execution_count": 108
        },
        {
          "output_type": "display_data",
          "data": {
            "image/png": "[encoded data removed]",
            "text/plain": [
              "<Figure size 432x288 with 1 Axes>"
            ]
          },
          "metadata": {
            "tags": []
          }
        }
      ]
    },
    {
      "cell_type": "code",
      "metadata": {
        "id": "1wb_z6ksAVP2",
        "colab_type": "code",
        "colab": {
          "base_uri": "https://localhost:8080/",
          "height": 34
        },
        "outputId": "547508e7-ceae-47a6-ea92-281f5894e599"
      },
      "source": [
        "theta"
      ],
      "execution_count": 109,
      "outputs": [
        {
          "output_type": "execute_result",
          "data": {
            "text/plain": [
              "array([0.97907566, 1.9333276 ])"
            ]
          },
          "metadata": {
            "tags": []
          },
          "execution_count": 109
        }
      ]
    },
    {
      "cell_type": "code",
      "metadata": {
        "id": "w7qF2k-DBJnK",
        "colab_type": "code",
        "colab": {}
      },
      "source": [
        "y_ = theta[0] + theta[1]*X"
      ],
      "execution_count": 0,
      "outputs": []
    },
    {
      "cell_type": "code",
      "metadata": {
        "id": "EZYL192LBeNk",
        "colab_type": "code",
        "colab": {
          "base_uri": "https://localhost:8080/",
          "height": 282
        },
        "outputId": "1d2aa499-10ad-484f-c873-446ba7a94121"
      },
      "source": [
        "plt.scatter(X,Y)\n",
        "plt.plot(X,y_,color='red')"
      ],
      "execution_count": 116,
      "outputs": [
        {
          "output_type": "execute_result",
          "data": {
            "text/plain": [
              "[<matplotlib.lines.Line2D at 0x7f46fd84ef98>]"
            ]
          },
          "metadata": {
            "tags": []
          },
          "execution_count": 116
        },
        {
          "output_type": "display_data",
          "data": {
            "image/png": "[encoded data removed]",
            "text/plain": [
              "<Figure size 432x288 with 1 Axes>"
            ]
          },
          "metadata": {
            "tags": []
          }
        }
      ]
    },
    {
      "cell_type": "code",
      "metadata": {
        "id": "LuHSpkqkBhJh",
        "colab_type": "code",
        "colab": {}
      },
      "source": [
        ""
      ],
      "execution_count": 0,
      "outputs": []
    }
  ]
}